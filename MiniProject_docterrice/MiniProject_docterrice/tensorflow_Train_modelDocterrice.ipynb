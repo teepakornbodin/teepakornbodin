{
  "nbformat": 4,
  "nbformat_minor": 0,
  "metadata": {
    "colab": {
      "provenance": [],
      "gpuType": "T4"
    },
    "kernelspec": {
      "name": "python3",
      "display_name": "Python 3"
    },
    "language_info": {
      "name": "python"
    },
    "accelerator": "GPU"
  },
  "cells": [
    {
      "cell_type": "code",
      "source": [
        "!pip install Pillow\n",
        "!apt-get install tree\n",
        "\n",
        "!cd ..\n"
      ],
      "metadata": {
        "id": "MUnIwLjqQkbD",
        "colab": {
          "base_uri": "https://localhost:8080/"
        },
        "outputId": "80edc13a-1c2a-4ed8-9dd3-9dc0d4d36618"
      },
      "execution_count": null,
      "outputs": [
        {
          "output_type": "stream",
          "name": "stdout",
          "text": [
            "Requirement already satisfied: Pillow in /usr/local/lib/python3.10/dist-packages (9.4.0)\n",
            "Reading package lists... Done\n",
            "Building dependency tree... Done\n",
            "Reading state information... Done\n",
            "The following NEW packages will be installed:\n",
            "  tree\n",
            "0 upgraded, 1 newly installed, 0 to remove and 18 not upgraded.\n",
            "Need to get 47.9 kB of archives.\n",
            "After this operation, 116 kB of additional disk space will be used.\n",
            "Get:1 http://archive.ubuntu.com/ubuntu jammy/universe amd64 tree amd64 2.0.2-1 [47.9 kB]\n",
            "Fetched 47.9 kB in 0s (134 kB/s)\n",
            "Selecting previously unselected package tree.\n",
            "(Reading database ... 120895 files and directories currently installed.)\n",
            "Preparing to unpack .../tree_2.0.2-1_amd64.deb ...\n",
            "Unpacking tree (2.0.2-1) ...\n",
            "Setting up tree (2.0.2-1) ...\n",
            "Processing triggers for man-db (2.10.2-1) ...\n"
          ]
        }
      ]
    },
    {
      "cell_type": "code",
      "source": [
        "from tensorflow.compat.v1 import ConfigProto\n",
        "from tensorflow.compat.v1 import InteractiveSession\n",
        "\n",
        "config = ConfigProto()\n",
        "config.gpu_options.per_process_gpu_memory_fraction = 0.5\n",
        "config.gpu_options.allow_growth = True\n",
        "session = InteractiveSession(config=config)"
      ],
      "metadata": {
        "id": "Ng2kZQaRqVae"
      },
      "execution_count": null,
      "outputs": []
    },
    {
      "cell_type": "code",
      "source": [
        "from tensorflow.keras.layers import Input, Lambda, Dense, Flatten, Dense, Dropout\n",
        "from tensorflow.keras.models import Model\n",
        "from tensorflow.keras.applications.resnet50 import ResNet50\n",
        "#from keras.applications.vgg16 import VGG16\n",
        "from tensorflow.keras.applications.resnet50 import preprocess_input\n",
        "from tensorflow.keras.preprocessing import image\n",
        "from tensorflow.keras.preprocessing.image import ImageDataGenerator,load_img\n",
        "from tensorflow.keras.models import Sequential\n",
        "import numpy as np\n",
        "from glob import glob\n",
        "#import matplotlib.pyplot as plt"
      ],
      "metadata": {
        "id": "c5ZliZ79tvJ7"
      },
      "execution_count": null,
      "outputs": []
    },
    {
      "cell_type": "code",
      "source": [
        "#! gdown https://drive.google.com/drive/folders/1MrmwlWGtnRxWAlBx7f8F--HX921wQBMN"
      ],
      "metadata": {
        "id": "xR_IGu3muwOq"
      },
      "execution_count": null,
      "outputs": []
    },
    {
      "cell_type": "code",
      "source": [
        "#from google.colab import files\n",
        "#uploaded = files.upload()\n"
      ],
      "metadata": {
        "id": "oHdF9GJv2YS9"
      },
      "execution_count": null,
      "outputs": []
    },
    {
      "cell_type": "code",
      "source": [
        "from google.colab import drive\n",
        "drive.mount('/content/drive/')"
      ],
      "metadata": {
        "id": "tDQ3fE-nOP8L",
        "colab": {
          "base_uri": "https://localhost:8080/"
        },
        "outputId": "bff3fe9e-7f11-4259-873f-383a62754656"
      },
      "execution_count": null,
      "outputs": [
        {
          "output_type": "stream",
          "name": "stdout",
          "text": [
            "Mounted at /content/drive/\n"
          ]
        }
      ]
    },
    {
      "cell_type": "code",
      "source": [
        "!cd \"/content/drive/MyDrive/DiseasePlantMini\"\n"
      ],
      "metadata": {
        "id": "4hSpB4CFOu2Y"
      },
      "execution_count": null,
      "outputs": []
    },
    {
      "cell_type": "code",
      "source": [
        "#!unzip Prediction.zip"
      ],
      "metadata": {
        "id": "vhvhfwbS2WJH"
      },
      "execution_count": null,
      "outputs": []
    },
    {
      "cell_type": "code",
      "source": [
        "IMAGE_SIZE = [150, 150]\n",
        "\n",
        "# train_path = 'Prediction/train'\n",
        "# valid_path = 'Prediction/test'\n",
        "\n",
        "train_path = '/content/drive/MyDrive/DiseasePlantMini/train'\n",
        "valid_path = '/content/drive/MyDrive/DiseasePlantMini/test'"
      ],
      "metadata": {
        "id": "bxjxMZy7t1wK"
      },
      "execution_count": null,
      "outputs": []
    },
    {
      "cell_type": "code",
      "source": [
        "resnet = ResNet50(input_shape=IMAGE_SIZE + [3], weights='imagenet', include_top=False)"
      ],
      "metadata": {
        "id": "Dgiq0du30a2P",
        "colab": {
          "base_uri": "https://localhost:8080/"
        },
        "outputId": "d57cdca9-88f1-4a32-e300-2ea2ed57c8d6"
      },
      "execution_count": null,
      "outputs": [
        {
          "output_type": "stream",
          "name": "stdout",
          "text": [
            "Downloading data from https://storage.googleapis.com/tensorflow/keras-applications/resnet/resnet50_weights_tf_dim_ordering_tf_kernels_notop.h5\n",
            "94765736/94765736 [==============================] - 0s 0us/step\n"
          ]
        }
      ]
    },
    {
      "cell_type": "code",
      "source": [
        "for layer in resnet.layers[:-1]:  # ไม่รวมชั้นที่ไม่ต้องการลงในโมเดลใหม่\n",
        "    layer.trainable = False"
      ],
      "metadata": {
        "id": "HUvkLFKe0dcn"
      },
      "execution_count": null,
      "outputs": []
    },
    {
      "cell_type": "code",
      "source": [
        "folders = glob('/content/drive/MyDrive/DiseasePlantMini/train*')"
      ],
      "metadata": {
        "id": "c8wba0X00hYH"
      },
      "execution_count": null,
      "outputs": []
    },
    {
      "cell_type": "code",
      "source": [
        "import tensorflow as tf\n",
        "x = Flatten()(resnet.output)\n",
        "prediction = Dense(len(folders), activation='softmax')(x)\n",
        "model = Model(inputs=resnet.input, outputs=prediction)\n",
        "model = tf.keras.Sequential([\n",
        "    tf.keras.layers.Conv2D(32, (3, 3), activation='relu', input_shape=(150, 150, 3)),\n",
        "    tf.keras.layers.MaxPooling2D(2, 2),\n",
        "\n",
        "    tf.keras.layers.Conv2D(64, (3, 3), activation='relu'),\n",
        "    tf.keras.layers.MaxPooling2D(2, 2),\n",
        "\n",
        "    tf.keras.layers.Conv2D(128, (3, 3), activation='relu'),\n",
        "    tf.keras.layers.MaxPooling2D(2, 2),\n",
        "\n",
        "    tf.keras.layers.Conv2D(256, (3, 3), activation='relu'),\n",
        "    tf.keras.layers.MaxPooling2D(2, 2),\n",
        "\n",
        "    tf.keras.layers.Flatten(),\n",
        "\n",
        "    tf.keras.layers.Dense(512, activation='relu'),\n",
        "    tf.keras.layers.Dropout(0.5),\n",
        "\n",
        "    tf.keras.layers.Dense(4, activation='softmax')\n",
        "])\n",
        "model.summary()"
      ],
      "metadata": {
        "colab": {
          "base_uri": "https://localhost:8080/"
        },
        "id": "1DKjbTb06yVi",
        "outputId": "976ec600-f786-47f9-b8a3-e7bd7a6e60f9"
      },
      "execution_count": null,
      "outputs": [
        {
          "output_type": "stream",
          "name": "stdout",
          "text": [
            "Model: \"sequential\"\n",
            "_________________________________________________________________\n",
            " Layer (type)                Output Shape              Param #   \n",
            "=================================================================\n",
            " conv2d (Conv2D)             (None, 148, 148, 32)      896       \n",
            "                                                                 \n",
            " max_pooling2d (MaxPooling2  (None, 74, 74, 32)        0         \n",
            " D)                                                              \n",
            "                                                                 \n",
            " conv2d_1 (Conv2D)           (None, 72, 72, 64)        18496     \n",
            "                                                                 \n",
            " max_pooling2d_1 (MaxPoolin  (None, 36, 36, 64)        0         \n",
            " g2D)                                                            \n",
            "                                                                 \n",
            " conv2d_2 (Conv2D)           (None, 34, 34, 128)       73856     \n",
            "                                                                 \n",
            " max_pooling2d_2 (MaxPoolin  (None, 17, 17, 128)       0         \n",
            " g2D)                                                            \n",
            "                                                                 \n",
            " conv2d_3 (Conv2D)           (None, 15, 15, 256)       295168    \n",
            "                                                                 \n",
            " max_pooling2d_3 (MaxPoolin  (None, 7, 7, 256)         0         \n",
            " g2D)                                                            \n",
            "                                                                 \n",
            " flatten_1 (Flatten)         (None, 12544)             0         \n",
            "                                                                 \n",
            " dense_1 (Dense)             (None, 512)               6423040   \n",
            "                                                                 \n",
            " dropout (Dropout)           (None, 512)               0         \n",
            "                                                                 \n",
            " dense_2 (Dense)             (None, 4)                 2052      \n",
            "                                                                 \n",
            "=================================================================\n",
            "Total params: 6813508 (25.99 MB)\n",
            "Trainable params: 6813508 (25.99 MB)\n",
            "Non-trainable params: 0 (0.00 Byte)\n",
            "_________________________________________________________________\n"
          ]
        }
      ]
    },
    {
      "cell_type": "code",
      "source": [
        "model.compile(optimizer='adam', loss='binary_crossentropy', metrics=['accuracy'])"
      ],
      "metadata": {
        "id": "LTR-Bel2baCm"
      },
      "execution_count": null,
      "outputs": []
    },
    {
      "cell_type": "code",
      "source": [
        "from tensorflow.keras.preprocessing.image import ImageDataGenerator\n",
        "\n",
        "train_datagen = ImageDataGenerator(rescale = 1./255,\n",
        "                                   rotation_range=20,\n",
        "                                   shear_range = 0.2,\n",
        "                                   zoom_range = 0.2,\n",
        "                                   horizontal_flip = True)\n",
        "\n",
        "test_datagen = ImageDataGenerator(rescale = 1./255)"
      ],
      "metadata": {
        "id": "hKHFKFyDbiUP"
      },
      "execution_count": null,
      "outputs": []
    },
    {
      "cell_type": "code",
      "source": [
        "training_set = train_datagen.flow_from_directory(train_path,\n",
        "                                                 target_size = (150, 150),\n",
        "                                                 batch_size = 64,\n",
        "                                                 class_mode = 'categorical')"
      ],
      "metadata": {
        "id": "zv07gYzGbyFg",
        "colab": {
          "base_uri": "https://localhost:8080/"
        },
        "outputId": "6ac8a264-c1e3-4e19-cced-cd61a0e37158"
      },
      "execution_count": null,
      "outputs": [
        {
          "output_type": "stream",
          "name": "stdout",
          "text": [
            "Found 1785 images belonging to 4 classes.\n"
          ]
        }
      ]
    },
    {
      "cell_type": "code",
      "source": [
        "test_set = test_datagen.flow_from_directory(valid_path,\n",
        "                                            target_size = (150, 150),\n",
        "                                            batch_size = 64,\n",
        "                                            class_mode = 'categorical')"
      ],
      "metadata": {
        "id": "HIqoAgPVby3p",
        "colab": {
          "base_uri": "https://localhost:8080/"
        },
        "outputId": "718321e6-0d51-4fcd-b836-2a0489060b68"
      },
      "execution_count": null,
      "outputs": [
        {
          "output_type": "stream",
          "name": "stdout",
          "text": [
            "Found 139 images belonging to 4 classes.\n"
          ]
        }
      ]
    },
    {
      "cell_type": "code",
      "source": [
        "r = model.fit(\n",
        "  training_set,\n",
        "  validation_data=test_set,\n",
        "  epochs=14,\n",
        "  steps_per_epoch=len(training_set),\n",
        "  validation_steps=len(test_set)\n",
        ")\n"
      ],
      "metadata": {
        "id": "Me9TlKa9cDWG",
        "colab": {
          "base_uri": "https://localhost:8080/"
        },
        "outputId": "49394ca1-cd43-4956-ae62-73b677a51674"
      },
      "execution_count": null,
      "outputs": [
        {
          "output_type": "stream",
          "name": "stdout",
          "text": [
            "Epoch 1/14\n",
            "28/28 [==============================] - 19s 634ms/step - loss: 0.3865 - accuracy: 0.6308 - val_loss: 0.3278 - val_accuracy: 0.6691\n",
            "Epoch 2/14\n",
            "28/28 [==============================] - 17s 605ms/step - loss: 0.3752 - accuracy: 0.6459 - val_loss: 0.3313 - val_accuracy: 0.7338\n",
            "Epoch 3/14\n",
            "28/28 [==============================] - 18s 624ms/step - loss: 0.3003 - accuracy: 0.7401 - val_loss: 0.3308 - val_accuracy: 0.6475\n",
            "Epoch 4/14\n",
            "28/28 [==============================] - 17s 607ms/step - loss: 0.2652 - accuracy: 0.7742 - val_loss: 0.1967 - val_accuracy: 0.8777\n",
            "Epoch 5/14\n",
            "28/28 [==============================] - 18s 647ms/step - loss: 0.2278 - accuracy: 0.8056 - val_loss: 0.1859 - val_accuracy: 0.8489\n",
            "Epoch 6/14\n",
            "28/28 [==============================] - 17s 621ms/step - loss: 0.1942 - accuracy: 0.8431 - val_loss: 0.1543 - val_accuracy: 0.9137\n",
            "Epoch 7/14\n",
            "28/28 [==============================] - 17s 625ms/step - loss: 0.1682 - accuracy: 0.8695 - val_loss: 0.1869 - val_accuracy: 0.8129\n",
            "Epoch 8/14\n",
            "28/28 [==============================] - 18s 645ms/step - loss: 0.1623 - accuracy: 0.8751 - val_loss: 0.1529 - val_accuracy: 0.8993\n",
            "Epoch 9/14\n",
            "28/28 [==============================] - 17s 609ms/step - loss: 0.1386 - accuracy: 0.9014 - val_loss: 0.1079 - val_accuracy: 0.8993\n",
            "Epoch 10/14\n",
            "28/28 [==============================] - 18s 659ms/step - loss: 0.1233 - accuracy: 0.9126 - val_loss: 0.1147 - val_accuracy: 0.9353\n",
            "Epoch 11/14\n",
            "28/28 [==============================] - 17s 612ms/step - loss: 0.1145 - accuracy: 0.9115 - val_loss: 0.0825 - val_accuracy: 0.9424\n",
            "Epoch 12/14\n",
            "28/28 [==============================] - 17s 614ms/step - loss: 0.0971 - accuracy: 0.9300 - val_loss: 0.0571 - val_accuracy: 0.9640\n",
            "Epoch 13/14\n",
            "28/28 [==============================] - 17s 620ms/step - loss: 0.1183 - accuracy: 0.9126 - val_loss: 0.1571 - val_accuracy: 0.9065\n",
            "Epoch 14/14\n",
            "28/28 [==============================] - 18s 635ms/step - loss: 0.1050 - accuracy: 0.9289 - val_loss: 0.1039 - val_accuracy: 0.9137\n"
          ]
        }
      ]
    },
    {
      "cell_type": "code",
      "source": [
        "import matplotlib.pyplot as plt"
      ],
      "metadata": {
        "id": "VbyMQtZdcG7D"
      },
      "execution_count": null,
      "outputs": []
    },
    {
      "cell_type": "code",
      "source": [
        "plt.plot(r.history['loss'], label='train loss')\n",
        "plt.plot(r.history['val_loss'], label='val loss')\n",
        "plt.legend()\n",
        "plt.show()\n",
        "plt.savefig('LossVal_loss')\n",
        "\n",
        "# plot the accuracy\n",
        "plt.plot(r.history['accuracy'], label='train acc')\n",
        "plt.plot(r.history['val_accuracy'], label='val acc')\n",
        "plt.legend()\n",
        "plt.show()\n",
        "plt.savefig('AccVal_acc')"
      ],
      "metadata": {
        "id": "a_IeqfoncJBk",
        "colab": {
          "base_uri": "https://localhost:8080/",
          "height": 862
        },
        "outputId": "d9b0527c-82a5-4d3c-e9ec-726e43251816"
      },
      "execution_count": null,
      "outputs": [
        {
          "output_type": "display_data",
          "data": {
            "text/plain": [
              "<Figure size 640x480 with 1 Axes>"
            ],
            "image/png": "[encoded data removed]"
          },
          "metadata": {}
        },
        {
          "output_type": "display_data",
          "data": {
            "text/plain": [
              "<Figure size 640x480 with 1 Axes>"
            ],
            "image/png": "[encoded data removed]"
          },
          "metadata": {}
        },
        {
          "output_type": "display_data",
          "data": {
            "text/plain": [
              "<Figure size 640x480 with 0 Axes>"
            ]
          },
          "metadata": {}
        }
      ]
    },
    {
      "cell_type": "code",
      "source": [
        "from tensorflow.keras.models import load_model\n",
        "\n",
        "model.save('model_resnet50.h5')"
      ],
      "metadata": {
        "id": "V-_GlEwocLlU",
        "colab": {
          "base_uri": "https://localhost:8080/"
        },
        "outputId": "02650bfb-1fec-41b5-d58a-13916e36774b"
      },
      "execution_count": null,
      "outputs": [
        {
          "output_type": "stream",
          "name": "stderr",
          "text": [
            "/usr/local/lib/python3.10/dist-packages/keras/src/engine/training.py:3000: UserWarning: You are saving your model as an HDF5 file via `model.save()`. This file format is considered legacy. We recommend using instead the native Keras format, e.g. `model.save('my_model.keras')`.\n",
            "  saving_api.save_model(\n"
          ]
        }
      ]
    },
    {
      "cell_type": "code",
      "source": [
        "y_pred = model.predict(test_set)\n",
        "y_pred"
      ],
      "metadata": {
        "id": "MYvu2v7ycOpd",
        "colab": {
          "base_uri": "https://localhost:8080/"
        },
        "outputId": "3b446ad2-12db-4605-9be7-352ac1f8bb80"
      },
      "execution_count": null,
      "outputs": [
        {
          "output_type": "stream",
          "name": "stdout",
          "text": [
            "3/3 [==============================] - 1s 349ms/step\n"
          ]
        },
        {
          "output_type": "execute_result",
          "data": {
            "text/plain": [
              "array([[1.75725687e-17, 1.00000000e+00, 4.43634492e-21, 9.67408505e-16],\n",
              "       [1.28452398e-03, 4.66663449e-04, 9.97526944e-01, 7.21984368e-04],\n",
              "       [9.99998093e-01, 1.43145030e-06, 1.25919883e-07, 3.19889324e-07],\n",
              "       [4.64166205e-11, 9.13036397e-14, 1.00000000e+00, 1.40465653e-10],\n",
              "       [8.10925267e-04, 1.01707771e-03, 9.29836242e-05, 9.98078942e-01],\n",
              "       [1.00000000e+00, 3.29003029e-08, 1.24809441e-09, 1.41074752e-08],\n",
              "       [4.81985398e-06, 1.86912239e-05, 8.00056682e-07, 9.99975681e-01],\n",
              "       [9.99325275e-01, 6.00492058e-04, 1.34299080e-06, 7.28763334e-05],\n",
              "       [7.55557930e-03, 7.63456244e-03, 1.33531960e-03, 9.83474553e-01],\n",
              "       [2.28666579e-08, 2.89757573e-09, 2.95649949e-10, 1.00000000e+00],\n",
              "       [1.56791601e-02, 4.12625214e-03, 9.78985906e-01, 1.20867754e-03],\n",
              "       [1.52516499e-10, 1.00000000e+00, 1.59589009e-12, 1.80579631e-11],\n",
              "       [1.00000000e+00, 1.34383463e-10, 5.74158915e-11, 2.45676368e-09],\n",
              "       [2.89848506e-01, 2.84970010e-05, 2.54728038e-05, 7.10097492e-01],\n",
              "       [2.32650709e-05, 9.99449551e-01, 3.19788240e-09, 5.27165539e-04],\n",
              "       [9.96454477e-01, 4.88958845e-04, 1.42057927e-03, 1.63601397e-03],\n",
              "       [1.56113678e-10, 2.83279067e-10, 1.00000000e+00, 3.33908190e-08],\n",
              "       [8.15521053e-05, 5.78665931e-04, 9.87462590e-06, 9.99329925e-01],\n",
              "       [3.88997012e-09, 1.00000000e+00, 1.41433881e-12, 1.07166294e-12],\n",
              "       [7.14114618e-12, 1.00000000e+00, 7.87806710e-16, 2.07634762e-14],\n",
              "       [6.00850147e-10, 1.00000000e+00, 1.68960007e-12, 5.80249217e-11],\n",
              "       [2.31039417e-14, 1.18548680e-17, 1.00000000e+00, 4.60302818e-15],\n",
              "       [2.01313960e-04, 1.83630880e-04, 7.81858125e-06, 9.99607265e-01],\n",
              "       [5.49071848e-01, 1.30231269e-02, 4.37403798e-01, 5.01232105e-04],\n",
              "       [8.62293792e-09, 1.00000000e+00, 6.46922012e-12, 4.64892302e-09],\n",
              "       [9.98722494e-01, 7.46872625e-04, 3.48894362e-04, 1.81793206e-04],\n",
              "       [1.78492421e-08, 5.78221138e-10, 2.12857731e-10, 1.00000000e+00],\n",
              "       [9.99997020e-01, 7.55941528e-07, 7.14469195e-09, 2.21105574e-06],\n",
              "       [7.23974495e-07, 8.41144470e-07, 9.99998212e-01, 2.10382211e-07],\n",
              "       [7.15120792e-01, 2.79245466e-01, 4.56878974e-04, 5.17676398e-03],\n",
              "       [8.73465417e-13, 2.33696200e-12, 3.14740794e-16, 1.00000000e+00],\n",
              "       [9.99993443e-01, 5.82682424e-06, 5.57577778e-07, 1.04617889e-07],\n",
              "       [1.48827099e-12, 1.00000000e+00, 1.17285457e-12, 3.33233576e-13],\n",
              "       [9.99994636e-01, 1.13272883e-07, 3.40749229e-09, 5.27696056e-06],\n",
              "       [1.13821079e-11, 1.00000000e+00, 3.60526149e-15, 1.30360051e-13],\n",
              "       [1.76928319e-10, 1.00000000e+00, 2.19143771e-14, 6.60565561e-11],\n",
              "       [8.18594452e-03, 9.91108298e-01, 5.91632968e-04, 1.14121991e-04],\n",
              "       [4.98219160e-05, 9.99943972e-01, 2.73678258e-09, 6.18378181e-06],\n",
              "       [9.99992490e-01, 1.43004016e-07, 2.65040323e-09, 7.36168704e-06],\n",
              "       [1.08249650e-14, 1.00000000e+00, 1.88296584e-20, 2.30071851e-15],\n",
              "       [9.59954560e-01, 6.68561971e-03, 3.24408859e-02, 9.18842794e-04],\n",
              "       [1.28936218e-02, 8.89172196e-01, 1.68960480e-06, 9.79324952e-02],\n",
              "       [9.99999046e-01, 1.08013779e-07, 4.07285903e-08, 8.08126458e-07],\n",
              "       [1.00000000e+00, 1.12345111e-08, 2.02213557e-09, 2.73218959e-09],\n",
              "       [2.16820228e-09, 1.00000000e+00, 6.64938699e-13, 4.42077885e-09],\n",
              "       [5.83024026e-14, 1.89641844e-11, 1.00000000e+00, 2.18495236e-10],\n",
              "       [4.34055863e-07, 7.72062236e-08, 5.73509151e-09, 9.99999523e-01],\n",
              "       [9.84173312e-05, 8.07533615e-06, 4.51321426e-07, 9.99893069e-01],\n",
              "       [1.00000000e+00, 2.55078003e-08, 2.32016698e-10, 6.86303991e-09],\n",
              "       [5.74804097e-03, 1.96630694e-03, 9.89573181e-01, 2.71241320e-03],\n",
              "       [2.50575782e-09, 9.99999523e-01, 5.63285425e-11, 4.81266341e-07],\n",
              "       [4.83766460e-04, 4.71314677e-04, 6.07915993e-08, 9.99044836e-01],\n",
              "       [9.99999642e-01, 1.78854364e-07, 1.08488418e-09, 1.42332638e-07],\n",
              "       [9.99982119e-01, 1.41795823e-07, 1.18800685e-07, 1.76423509e-05],\n",
              "       [4.26340499e-04, 5.90922544e-03, 9.86319423e-01, 7.34497420e-03],\n",
              "       [5.28353192e-02, 2.52751410e-01, 6.94412827e-01, 3.99123792e-07],\n",
              "       [3.82542531e-08, 9.99998927e-01, 1.87040317e-09, 1.04061689e-06],\n",
              "       [9.99849081e-01, 2.37185600e-06, 1.46784660e-04, 1.68606380e-06],\n",
              "       [1.01599712e-02, 1.14650065e-02, 9.73653734e-01, 4.72134398e-03],\n",
              "       [1.56486452e-16, 1.00000000e+00, 3.19943199e-19, 2.77658620e-13],\n",
              "       [1.12037151e-06, 1.51812962e-08, 7.47849374e-13, 9.99998808e-01],\n",
              "       [2.30428077e-06, 7.73100590e-04, 1.42554046e-13, 9.99224544e-01],\n",
              "       [9.53408099e-12, 6.38343878e-10, 8.76628596e-16, 1.00000000e+00],\n",
              "       [9.99982953e-01, 8.87454732e-08, 5.61727465e-09, 1.69008017e-05],\n",
              "       [9.99998569e-01, 3.59471414e-07, 1.42999035e-09, 1.01678791e-06],\n",
              "       [1.13379917e-06, 9.99997258e-01, 8.63790539e-10, 1.58800810e-06],\n",
              "       [9.96082902e-01, 1.18141520e-06, 2.40853240e-07, 3.91566986e-03],\n",
              "       [1.56113678e-10, 2.83279067e-10, 1.00000000e+00, 3.33908190e-08],\n",
              "       [3.60242679e-13, 1.00000000e+00, 1.85550751e-19, 2.11237399e-11],\n",
              "       [1.92558000e-05, 4.44812904e-05, 1.26172512e-08, 9.99936223e-01],\n",
              "       [9.99994636e-01, 1.13272883e-07, 3.40749229e-09, 5.27696056e-06],\n",
              "       [1.40063390e-01, 2.46433187e-02, 2.46047694e-05, 8.35268736e-01],\n",
              "       [1.42013468e-03, 9.97163951e-01, 1.83086777e-05, 1.39753171e-03],\n",
              "       [1.20930075e-08, 1.00000000e+00, 1.85803664e-11, 1.67686975e-09],\n",
              "       [4.99603921e-04, 9.99466240e-01, 3.41217419e-05, 4.78532343e-08],\n",
              "       [9.99999881e-01, 6.97795741e-08, 1.57884426e-12, 1.72216890e-08],\n",
              "       [7.23974495e-07, 8.41144470e-07, 9.99998212e-01, 2.10382211e-07],\n",
              "       [1.12375617e-01, 8.57819745e-04, 8.85802269e-01, 9.64319857e-04],\n",
              "       [7.91954156e-03, 7.19837681e-06, 9.91501689e-01, 5.71596669e-04],\n",
              "       [1.27886504e-01, 1.05909994e-02, 8.57936084e-01, 3.58643546e-03],\n",
              "       [6.02815533e-07, 9.99996901e-01, 6.60703367e-11, 2.54889756e-06],\n",
              "       [9.99905109e-01, 9.18932346e-05, 7.03298610e-08, 2.94230267e-06],\n",
              "       [5.49071848e-01, 1.30231269e-02, 4.37403798e-01, 5.01232105e-04],\n",
              "       [5.65235224e-03, 4.59926529e-03, 5.73539117e-04, 9.89174843e-01],\n",
              "       [9.99693155e-01, 6.94113405e-05, 2.30548030e-04, 6.96855022e-06],\n",
              "       [2.49613455e-04, 1.27671527e-07, 2.12865434e-10, 9.99750197e-01],\n",
              "       [7.50981883e-07, 9.99987125e-01, 9.61221414e-09, 1.21254807e-05],\n",
              "       [1.66866592e-14, 1.12967422e-11, 2.12310920e-12, 1.00000000e+00],\n",
              "       [1.51179698e-16, 1.90764917e-12, 1.00000000e+00, 1.39283658e-12],\n",
              "       [9.99737084e-01, 9.21221726e-06, 9.17853104e-05, 1.61893535e-04],\n",
              "       [1.96652491e-05, 3.05651110e-06, 1.98437033e-06, 9.99975204e-01],\n",
              "       [1.15883956e-03, 6.30347276e-05, 9.98748302e-01, 2.97194401e-05],\n",
              "       [1.98468996e-07, 9.99999523e-01, 9.73329972e-10, 2.03275931e-07],\n",
              "       [1.96348395e-07, 9.99999404e-01, 1.38906983e-10, 4.04089775e-07],\n",
              "       [2.58932654e-02, 2.78223362e-02, 9.40617442e-01, 5.66697400e-03],\n",
              "       [9.56789494e-01, 1.12873968e-02, 3.14549468e-02, 4.68092825e-04],\n",
              "       [6.60175225e-03, 2.53990553e-02, 2.18288642e-05, 9.67977345e-01],\n",
              "       [9.99999762e-01, 9.95366420e-08, 2.44391654e-08, 4.66618495e-08],\n",
              "       [9.92866874e-01, 1.14664704e-06, 3.06723649e-07, 7.13161053e-03],\n",
              "       [3.28625660e-08, 5.13662280e-06, 9.99991059e-01, 3.86453485e-06],\n",
              "       [6.56386476e-07, 9.99998927e-01, 1.11449928e-07, 2.71164112e-07],\n",
              "       [5.27074553e-05, 9.59772110e-01, 6.02737954e-03, 3.41477394e-02],\n",
              "       [1.56486452e-16, 1.00000000e+00, 3.19943199e-19, 2.77658620e-13],\n",
              "       [9.99482095e-01, 4.86284989e-06, 3.00878042e-07, 5.12750586e-04],\n",
              "       [9.99775469e-01, 6.58389326e-05, 9.12551423e-06, 1.49659842e-04],\n",
              "       [2.55103183e-09, 1.00000000e+00, 5.58330563e-13, 4.96751251e-10],\n",
              "       [9.99373853e-01, 6.26189751e-04, 3.07140285e-11, 2.66716116e-09],\n",
              "       [5.22837937e-01, 2.62130558e-01, 2.14191362e-01, 8.40149180e-04],\n",
              "       [6.86922067e-05, 2.13100022e-04, 9.98372257e-01, 1.34595030e-03],\n",
              "       [9.99528408e-01, 3.14506997e-06, 1.11047466e-05, 4.57424991e-04],\n",
              "       [1.20658569e-06, 5.77173125e-07, 8.11122280e-11, 9.99998212e-01],\n",
              "       [5.34006476e-01, 4.09521639e-01, 5.62406220e-02, 2.31233164e-04],\n",
              "       [1.49862496e-02, 1.13560297e-02, 9.62813258e-01, 1.08443890e-02],\n",
              "       [9.99982119e-01, 1.26201229e-07, 1.18621351e-07, 1.76682443e-05],\n",
              "       [9.99989986e-01, 8.49210608e-07, 3.69463574e-12, 9.12453925e-06],\n",
              "       [2.61894239e-11, 1.00000000e+00, 8.42078143e-12, 1.38247261e-11],\n",
              "       [8.12983529e-08, 9.99999881e-01, 5.58187316e-11, 1.62884661e-09],\n",
              "       [9.99952435e-01, 2.07585435e-05, 4.48182936e-06, 2.23006773e-05],\n",
              "       [9.99999762e-01, 1.53606223e-07, 7.42286232e-10, 1.23050683e-07],\n",
              "       [1.19119082e-04, 3.44260712e-04, 9.99364316e-01, 1.72239786e-04],\n",
              "       [5.65157990e-12, 1.00000000e+00, 1.41544715e-17, 4.91825721e-12],\n",
              "       [9.99996781e-01, 2.32671414e-06, 7.04778188e-07, 1.73747992e-07],\n",
              "       [3.90342648e-05, 1.61189586e-04, 9.99059141e-01, 7.40657328e-04],\n",
              "       [9.99999881e-01, 3.32574301e-10, 8.15740577e-08, 4.74351503e-10],\n",
              "       [9.99889135e-01, 4.01504294e-05, 1.02633912e-05, 6.04794768e-05],\n",
              "       [1.28113783e-07, 9.99999046e-01, 1.41467751e-12, 8.21337267e-07],\n",
              "       [9.65696599e-05, 2.64158898e-05, 1.47765151e-08, 9.99876976e-01],\n",
              "       [1.00000000e+00, 3.25922445e-09, 1.01991733e-12, 1.48267176e-09],\n",
              "       [1.33898475e-08, 9.07100883e-08, 1.54770963e-09, 9.99999881e-01],\n",
              "       [2.84086209e-11, 1.00000000e+00, 1.96998942e-15, 8.48386379e-12],\n",
              "       [2.59673540e-02, 2.33838394e-01, 3.05670686e-03, 7.37137556e-01],\n",
              "       [3.60369235e-02, 2.55796947e-02, 2.67749101e-01, 6.70634270e-01],\n",
              "       [5.28353527e-02, 2.52750933e-01, 6.94413304e-01, 3.99124048e-07],\n",
              "       [3.20640851e-07, 1.40061303e-07, 2.17151800e-11, 9.99999523e-01],\n",
              "       [4.95181940e-02, 2.02280328e-01, 4.86080617e-01, 2.62120843e-01],\n",
              "       [3.82546155e-08, 9.99998927e-01, 1.87041760e-09, 1.04062292e-06],\n",
              "       [9.99895573e-01, 7.51208233e-07, 6.13576532e-08, 1.03609811e-04],\n",
              "       [2.31039417e-14, 1.18548680e-17, 1.00000000e+00, 4.60302818e-15],\n",
              "       [4.49243875e-04, 1.96202687e-04, 1.78515547e-05, 9.99336660e-01]],\n",
              "      dtype=float32)"
            ]
          },
          "metadata": {},
          "execution_count": 24
        }
      ]
    },
    {
      "cell_type": "code",
      "source": [
        "import numpy as np\n",
        "y_pred = np.argmax(y_pred, axis=1)"
      ],
      "metadata": {
        "id": "gHQBR7jv-_58"
      },
      "execution_count": null,
      "outputs": []
    },
    {
      "cell_type": "code",
      "source": [
        "y_pred"
      ],
      "metadata": {
        "id": "hiq8LF23_G7y",
        "colab": {
          "base_uri": "https://localhost:8080/"
        },
        "outputId": "ca6ab2e9-532b-4dc3-bf4e-354e0d415af3"
      },
      "execution_count": null,
      "outputs": [
        {
          "output_type": "execute_result",
          "data": {
            "text/plain": [
              "array([1, 2, 0, 2, 3, 0, 3, 0, 3, 3, 2, 1, 0, 3, 1, 0, 2, 3, 1, 1, 1, 2,\n",
              "       3, 0, 1, 0, 3, 0, 2, 0, 3, 0, 1, 0, 1, 1, 1, 1, 0, 1, 0, 1, 0, 0,\n",
              "       1, 2, 3, 3, 0, 2, 1, 3, 0, 0, 2, 2, 1, 0, 2, 1, 3, 3, 3, 0, 0, 1,\n",
              "       0, 2, 1, 3, 0, 3, 1, 1, 1, 0, 2, 2, 2, 2, 1, 0, 0, 3, 0, 3, 1, 3,\n",
              "       2, 0, 3, 2, 1, 1, 2, 0, 3, 0, 0, 2, 1, 1, 1, 0, 0, 1, 0, 0, 2, 0,\n",
              "       3, 0, 2, 0, 0, 1, 1, 0, 0, 2, 1, 0, 2, 0, 0, 1, 3, 0, 3, 1, 3, 3,\n",
              "       2, 3, 2, 1, 0, 2, 3])"
            ]
          },
          "metadata": {},
          "execution_count": 26
        }
      ]
    },
    {
      "cell_type": "code",
      "source": [
        "from tensorflow.keras.models import load_model\n",
        "from tensorflow.keras.preprocessing import image"
      ],
      "metadata": {
        "id": "fscqNoTY_Hhc"
      },
      "execution_count": null,
      "outputs": []
    },
    {
      "cell_type": "code",
      "source": [
        "model=load_model('model_resnet50.h5')"
      ],
      "metadata": {
        "id": "OKbXQNg0_Jdb"
      },
      "execution_count": null,
      "outputs": []
    },
    {
      "cell_type": "code",
      "source": [
        "img_data"
      ],
      "metadata": {
        "id": "38j3LTBB_LON",
        "colab": {
          "base_uri": "https://localhost:8080/",
          "height": 175
        },
        "outputId": "86ac1362-9d11-4b12-c03a-b944362a7ac6"
      },
      "execution_count": null,
      "outputs": [
        {
          "output_type": "error",
          "ename": "NameError",
          "evalue": "ignored",
          "traceback": [
            "\u001b[0;31m---------------------------------------------------------------------------\u001b[0m",
            "\u001b[0;31mNameError\u001b[0m                                 Traceback (most recent call last)",
            "\u001b[0;32m<ipython-input-29-7b8301fa3f5c>\u001b[0m in \u001b[0;36m<cell line: 1>\u001b[0;34m()\u001b[0m\n\u001b[0;32m----> 1\u001b[0;31m \u001b[0mimg_data\u001b[0m\u001b[0;34m\u001b[0m\u001b[0;34m\u001b[0m\u001b[0m\n\u001b[0m",
            "\u001b[0;31mNameError\u001b[0m: name 'img_data' is not defined"
          ]
        }
      ]
    },
    {
      "cell_type": "code",
      "source": [
        "img=image.load_img('/content/drive/MyDrive/DiseasePlantMini/test/Brownspotdisease/Brownspotdisease (1).jpg',target_size=(150,150))"
      ],
      "metadata": {
        "id": "hIk10AR9_Oxs"
      },
      "execution_count": null,
      "outputs": []
    },
    {
      "cell_type": "code",
      "source": [
        "x=image.img_to_array(img)\n",
        "x"
      ],
      "metadata": {
        "id": "bz7nvJId_lIR",
        "colab": {
          "base_uri": "https://localhost:8080/"
        },
        "outputId": "9f8919b2-ecfd-4c54-8178-963c97f8a07c"
      },
      "execution_count": null,
      "outputs": [
        {
          "output_type": "execute_result",
          "data": {
            "text/plain": [
              "array([[[155., 169.,  71.],\n",
              "        [193., 201., 118.],\n",
              "        [134., 140.,  70.],\n",
              "        ...,\n",
              "        [128., 117.,  53.],\n",
              "        [130., 109.,  52.],\n",
              "        [ 99.,  93.,  35.]],\n",
              "\n",
              "       [[141., 155.,  57.],\n",
              "        [158., 162.,  85.],\n",
              "        [177., 183., 111.],\n",
              "        ...,\n",
              "        [131., 120.,  58.],\n",
              "        [106.,  90.,  39.],\n",
              "        [ 81.,  78.,  23.]],\n",
              "\n",
              "       [[152., 162.,  66.],\n",
              "        [149., 152.,  75.],\n",
              "        [192., 196., 122.],\n",
              "        ...,\n",
              "        [135., 119.,  57.],\n",
              "        [ 81.,  69.,  21.],\n",
              "        [ 84.,  83.,  29.]],\n",
              "\n",
              "       ...,\n",
              "\n",
              "       [[ 66.,  98.,  22.],\n",
              "        [ 76., 100.,  24.],\n",
              "        [ 73.,  93.,  21.],\n",
              "        ...,\n",
              "        [ 55.,  47.,  24.],\n",
              "        [ 54.,  48.,  22.],\n",
              "        [ 50.,  42.,  19.]],\n",
              "\n",
              "       [[ 66., 100.,  23.],\n",
              "        [ 68.,  94.,  20.],\n",
              "        [ 81., 108.,  27.],\n",
              "        ...,\n",
              "        [ 56.,  51.,  22.],\n",
              "        [ 54.,  50.,  23.],\n",
              "        [ 43.,  39.,  14.]],\n",
              "\n",
              "       [[ 65., 100.,  20.],\n",
              "        [ 70.,  98.,  23.],\n",
              "        [ 74., 101.,  22.],\n",
              "        ...,\n",
              "        [ 68.,  63.,  33.],\n",
              "        [ 60.,  56.,  29.],\n",
              "        [ 49.,  45.,  18.]]], dtype=float32)"
            ]
          },
          "metadata": {},
          "execution_count": 31
        }
      ]
    },
    {
      "cell_type": "code",
      "source": [
        "x.shape"
      ],
      "metadata": {
        "id": "w6QxLlIK_nTf",
        "colab": {
          "base_uri": "https://localhost:8080/"
        },
        "outputId": "0e48e8dc-f5f4-4572-dd4c-01c029a6148a"
      },
      "execution_count": null,
      "outputs": [
        {
          "output_type": "execute_result",
          "data": {
            "text/plain": [
              "(150, 150, 3)"
            ]
          },
          "metadata": {},
          "execution_count": 32
        }
      ]
    },
    {
      "cell_type": "code",
      "source": [
        "x=x/255.0"
      ],
      "metadata": {
        "id": "rPIF1NW9_tH4"
      },
      "execution_count": null,
      "outputs": []
    },
    {
      "cell_type": "code",
      "source": [
        "import numpy as np\n",
        "x=np.expand_dims(x,axis=0)\n",
        "img_data=preprocess_input(x)\n",
        "img_data.shape"
      ],
      "metadata": {
        "id": "lAD3dpjU_tnB",
        "colab": {
          "base_uri": "https://localhost:8080/"
        },
        "outputId": "34ccb794-6cb7-4fa9-f1f4-42e384523d9e"
      },
      "execution_count": null,
      "outputs": [
        {
          "output_type": "execute_result",
          "data": {
            "text/plain": [
              "(1, 150, 150, 3)"
            ]
          },
          "metadata": {},
          "execution_count": 34
        }
      ]
    },
    {
      "cell_type": "code",
      "source": [
        "model.predict(img_data)"
      ],
      "metadata": {
        "id": "AlX7xsz4_v8Q",
        "colab": {
          "base_uri": "https://localhost:8080/"
        },
        "outputId": "4f53efed-d7b1-4558-95c1-ba645493c5bc"
      },
      "execution_count": null,
      "outputs": [
        {
          "output_type": "stream",
          "name": "stdout",
          "text": [
            "1/1 [==============================] - 0s 258ms/step\n"
          ]
        },
        {
          "output_type": "execute_result",
          "data": {
            "text/plain": [
              "array([[1., 0., 0., 0.]], dtype=float32)"
            ]
          },
          "metadata": {},
          "execution_count": 35
        }
      ]
    },
    {
      "cell_type": "code",
      "source": [
        "a=np.argmax(model.predict(img_data), axis=1)"
      ],
      "metadata": {
        "id": "A451vOU4_xQw",
        "colab": {
          "base_uri": "https://localhost:8080/"
        },
        "outputId": "6ae2663d-9aba-4341-f094-ac945cdbbf8d"
      },
      "execution_count": null,
      "outputs": [
        {
          "output_type": "stream",
          "name": "stdout",
          "text": [
            "1/1 [==============================] - 0s 26ms/step\n"
          ]
        }
      ]
    },
    {
      "cell_type": "code",
      "source": [
        "prediction = model.predict(img_data)\n",
        "max_prob = np.max(prediction)\n",
        "predicted_class = np.argmax(prediction)"
      ],
      "metadata": {
        "colab": {
          "base_uri": "https://localhost:8080/"
        },
        "id": "gYf9H2m3l7Wl",
        "outputId": "1f9843ae-602e-4e45-e1f8-8e4124c36551"
      },
      "execution_count": null,
      "outputs": [
        {
          "output_type": "stream",
          "name": "stdout",
          "text": [
            "1/1 [==============================] - 0s 19ms/step\n"
          ]
        }
      ]
    },
    {
      "cell_type": "code",
      "source": [
        "a = (predicted_class == 1)"
      ],
      "metadata": {
        "id": "oBcjXisNl8sc"
      },
      "execution_count": null,
      "outputs": []
    },
    {
      "cell_type": "code",
      "source": [
        "a = (predicted_class == 1)\n",
        "if a:\n",
        "    print(\"a is equal to 1\")\n",
        "else:\n",
        "    print(\"a is not equal to 1\")\n"
      ],
      "metadata": {
        "colab": {
          "base_uri": "https://localhost:8080/"
        },
        "id": "IHyx1gc3m5UU",
        "outputId": "620c046c-0081-485c-ffce-b4de12ade4f5"
      },
      "execution_count": null,
      "outputs": [
        {
          "output_type": "stream",
          "name": "stdout",
          "text": [
            "a is not equal to 1\n"
          ]
        }
      ]
    },
    {
      "cell_type": "code",
      "source": [
        "a = (predicted_class == 1)\n",
        "if a:\n",
        "    a = 1\n",
        "else:\n",
        "    a = 0"
      ],
      "metadata": {
        "id": "_4gsb9nYmvQk"
      },
      "execution_count": null,
      "outputs": []
    },
    {
      "cell_type": "code",
      "source": [
        "a==1"
      ],
      "metadata": {
        "id": "_ch83Uk9_yuJ",
        "colab": {
          "base_uri": "https://localhost:8080/"
        },
        "outputId": "524a45c8-c710-4d7f-fe56-5418e192404b"
      },
      "execution_count": null,
      "outputs": [
        {
          "output_type": "execute_result",
          "data": {
            "text/plain": [
              "False"
            ]
          },
          "metadata": {},
          "execution_count": 49
        }
      ]
    },
    {
      "cell_type": "code",
      "source": [
        "import tensorflow as tf"
      ],
      "metadata": {
        "id": "1HkIk_gX_0kJ"
      },
      "execution_count": null,
      "outputs": []
    },
    {
      "cell_type": "code",
      "source": [
        "tf.__version__"
      ],
      "metadata": {
        "id": "ECd-JxNs_4Kj",
        "colab": {
          "base_uri": "https://localhost:8080/",
          "height": 35
        },
        "outputId": "bfb4508c-afce-43f1-899b-07220f12a983"
      },
      "execution_count": null,
      "outputs": [
        {
          "output_type": "execute_result",
          "data": {
            "text/plain": [
              "'2.13.0'"
            ],
            "application/vnd.google.colaboratory.intrinsic+json": {
              "type": "string"
            }
          },
          "metadata": {},
          "execution_count": 80
        }
      ]
    }
  ]
}